{
 "cells": [
  {
   "cell_type": "markdown",
   "metadata": {},
   "source": [
    "Import dependencies"
   ]
  },
  {
   "cell_type": "code",
   "execution_count": null,
   "metadata": {},
   "outputs": [],
   "source": [
    "import pandas as pd\n",
    "%matplotlib inline\n",
    "from sklearn import datasets\n",
    "import matplotlib.pyplot as plt\n",
    "import seaborn as sns\n",
    "import numpy as np\n",
    "import os"
   ]
  },
  {
   "cell_type": "markdown",
   "metadata": {},
   "source": [
    "## Data Set"
   ]
  },
  {
   "cell_type": "markdown",
   "metadata": {},
   "source": [
    "https://archive.ics.uci.edu/ml/datasets/wine+quality"
   ]
  },
  {
   "cell_type": "code",
   "execution_count": null,
   "metadata": {},
   "outputs": [],
   "source": [
    "#load csv into a data frame \n",
    "redwine_df = pd.read_csv('wineQualityReds.csv')\n",
    "redwine_df.head()"
   ]
  },
  {
   "cell_type": "code",
   "execution_count": null,
   "metadata": {},
   "outputs": [],
   "source": [
    "#rename/clean up column names \n",
    "#define class as quality points (6)\n",
    "#quality of wine rated on a 1-10 scale: data scores between 2-7 (6 classes of wine quality)\n",
    "wine = pd.read_csv(os.path.join('wineQualityReds.csv'))\n",
    "new_wine= wine.rename(columns={\"quality\": \"Class\",\"Unnamed: 0\": \"count\"})\n",
    "\n",
    "new_wine.head()"
   ]
  },
  {
   "cell_type": "markdown",
   "metadata": {},
   "source": [
    "## Correlation"
   ]
  },
  {
   "cell_type": "markdown",
   "metadata": {},
   "source": [
    "Visual showing the correaltion between these chemical components in red wine."
   ]
  },
  {
   "cell_type": "code",
   "execution_count": null,
   "metadata": {},
   "outputs": [],
   "source": [
    "fig = plt.subplots(figsize = (12,8))\n",
    "sns.heatmap(new_wine.corr())\n",
    "plt.savefig(\"correlation.png\")"
   ]
  },
  {
   "cell_type": "markdown",
   "metadata": {},
   "source": [
    "Quantifying values of correlation matrix."
   ]
  },
  {
   "cell_type": "code",
   "execution_count": null,
   "metadata": {},
   "outputs": [],
   "source": [
    "corr_data = correlation\n",
    "corr_data.head()"
   ]
  },
  {
   "cell_type": "markdown",
   "metadata": {},
   "source": [
    "## KMeans"
   ]
  },
  {
   "cell_type": "markdown",
   "metadata": {},
   "source": [
    "Machine Learning model for clustering the wine based on the 6 classes. "
   ]
  },
  {
   "cell_type": "code",
   "execution_count": null,
   "metadata": {},
   "outputs": [],
   "source": [
    "from sklearn.cluster import KMeans\n",
    "kmeans = KMeans(n_clusters=6)"
   ]
  },
  {
   "cell_type": "code",
   "execution_count": null,
   "metadata": {},
   "outputs": [],
   "source": [
    "kmeans.fit(redwine_df) "
   ]
  },
  {
   "cell_type": "code",
   "execution_count": null,
   "metadata": {},
   "outputs": [],
   "source": [
    "KMeans(algorithm='auto', copy_x=True, init='k-means++', max_iter=300,\n",
    "    n_clusters=6, n_init=10, n_jobs=1, precompute_distances='auto',\n",
    "    random_state=None, tol=0.0001, verbose=0)"
   ]
  },
  {
   "cell_type": "code",
   "execution_count": null,
   "metadata": {},
   "outputs": [],
   "source": [
    "predicted_clusters = kmeans.predict(redwine_df) "
   ]
  },
  {
   "cell_type": "code",
   "execution_count": null,
   "metadata": {},
   "outputs": [],
   "source": [
    "wine_data = pd.read_csv('wineQualityReds.csv')\n",
    "new_wine = wine_data.rename(columns={\"quality\": \"Class\"})\n",
    "\n",
    "wine_df = pd.DataFrame(new_wine)\n",
    "wine_df.Class = wine_df.Class - 1"
   ]
  },
  {
   "cell_type": "markdown",
   "metadata": {},
   "source": [
    "## Density vs. Alcohol"
   ]
  },
  {
   "cell_type": "markdown",
   "metadata": {},
   "source": [
    "A rule of thumb is, that the lower the percentage of alcohol, the more sugar is still in the fluid = heavier liquid\n",
    "\n",
    "from: https://bartenderly.com/tips-tricks/alcohol-density-chart/"
   ]
  },
  {
   "cell_type": "code",
   "execution_count": null,
   "metadata": {
    "scrolled": true
   },
   "outputs": [],
   "source": [
    "from sklearn.cluster import KMeans\n",
    "\n",
    "wine_df.plot.scatter(x = 'alcohol', y = 'density', c= 'Class', figsize=(12,8), colormap='jet')\n",
    "plt.savefig(\"densityalcoholscatter.png\")"
   ]
  },
  {
   "cell_type": "code",
   "execution_count": null,
   "metadata": {},
   "outputs": [],
   "source": [
    "kmeans = KMeans(n_clusters=6, init = 'k-means++', max_iter = 1000, \n",
    "                random_state = None).fit(wine_df.iloc[:,[11,8]])\n",
    "centroids_df = pd.DataFrame(kmeans.cluster_centers_, columns = list(wine_df.iloc[:,[11,8]].columns.values))\n",
    "fig, ax = plt.subplots(1, 1)\n",
    "wine_df.plot.scatter(x = 'alcohol', y = 'density', c= 'Class', figsize=(12,8), \n",
    "                     colormap='jet', ax=ax, mark_right=False)\n",
    "centroids_df.plot.scatter(x = 'alcohol', y = 'density', c = 'black', ax = ax,  s = 100, marker='s')\n",
    "plt.savefig(\"densityalcoholcluster.png\")"
   ]
  },
  {
   "cell_type": "code",
   "execution_count": null,
   "metadata": {},
   "outputs": [],
   "source": [
    "centroids_df.head()"
   ]
  },
  {
   "cell_type": "markdown",
   "metadata": {},
   "source": [
    "Linear regression on centroids."
   ]
  },
  {
   "cell_type": "code",
   "execution_count": null,
   "metadata": {},
   "outputs": [],
   "source": [
    "from scipy.stats import linregress\n",
    "slope, intercept, r, p, error = linregress(centroids_df[\"alcohol\"], centroids_df[\"density\"])\n",
    "# slope, intercept, r, p, error\n",
    "\n",
    "\n",
    "fit = slope * centroids_df[\"alcohol\"] + intercept\n",
    "\n",
    "fig, ax = plt.subplots(figsize=(12,8))\n",
    "ax.plot(centroids_df[\"alcohol\"], centroids_df[\"density\"],linewidth=\"0\", marker='s', color='black') #plot each instance\n",
    "ax.plot(centroids_df[\"alcohol\"], fit, 'r--') #plot the regresion calc, with a red dotted line\n",
    "\n",
    "plt.title(\"Density vs. Alcohol\")\n",
    "plt.xlabel(\"Alcohol\")\n",
    "plt.ylabel(\"Density\")\n",
    "plt.grid(True)\n",
    "plt.savefig(\"densityalcoholregress.png\")"
   ]
  },
  {
   "cell_type": "code",
   "execution_count": null,
   "metadata": {},
   "outputs": [],
   "source": [
    "print(\"r:\", r, \n",
    "      \"error:\", error)"
   ]
  },
  {
   "cell_type": "markdown",
   "metadata": {},
   "source": [
    "## Density vs. Fixed Acidity"
   ]
  },
  {
   "cell_type": "markdown",
   "metadata": {},
   "source": [
    "In wine, the more acidity it has, the more tart the wine will taste."
   ]
  },
  {
   "cell_type": "code",
   "execution_count": null,
   "metadata": {},
   "outputs": [],
   "source": [
    "wine_df.plot.scatter(x = 'fixed.acidity', y = 'density', c= 'Class', figsize=(12,8), colormap='jet')\n",
    "plt.savefig(\"densityacidityscatter.png\")"
   ]
  },
  {
   "cell_type": "code",
   "execution_count": null,
   "metadata": {},
   "outputs": [],
   "source": [
    "kmeans = KMeans(n_clusters=6, init = 'k-means++', max_iter = 1000, random_state = None).fit(wine_df.iloc[:,[1,8]])\n",
    "centroids_df2 = pd.DataFrame(kmeans.cluster_centers_, columns = list(wine_df.iloc[:,[1,8]].columns.values))\n",
    "\n",
    "fit = slope * centroids_df2[\"fixed.acidity\"] + intercept\n",
    "\n",
    "fig, ax = plt.subplots(1, 1)\n",
    "ax.plot(centroids_df2[\"fixed.acidity\"], centroids_df2[\"density\"],linewidth=\"0\") #plot each instance\n",
    "ax.plot(centroids_df2[\"fixed.acidity\"], fit, 'r--')\n",
    "wine_df.plot.scatter(x = 'fixed.acidity', y = 'density', c= 'Class', figsize=(12,8), colormap='jet', ax=ax, \n",
    "                     mark_right=False)\n",
    "centroids_df2.plot.scatter(x = 'fixed.acidity', y = 'density', c = 'black', ax = ax,  s = 100, marker='s')\n",
    "plt.title(\"Density vs. Fixed Acidity\")\n",
    "plt.xlabel(\"Fixed Acidity\")\n",
    "plt.ylabel(\"Density\")\n",
    "plt.grid(True)\n",
    "\n",
    "plt.savefig(\"densityacidityfinal.png\")"
   ]
  },
  {
   "cell_type": "code",
   "execution_count": null,
   "metadata": {},
   "outputs": [],
   "source": [
    "centroids_df2.head()"
   ]
  },
  {
   "cell_type": "code",
   "execution_count": null,
   "metadata": {},
   "outputs": [],
   "source": [
    "slope, intercept, r, p, error = linregress(centroids_df2[\"fixed.acidity\"], centroids_df2[\"density\"])\n",
    "\n",
    "fit = slope * centroids_df2[\"fixed.acidity\"] + intercept\n",
    "\n",
    "fig, ax = plt.subplots(figsize=(12,8))\n",
    "ax.plot(centroids_df2[\"fixed.acidity\"], centroids_df2[\"density\"],linewidth=\"0\", \n",
    "        marker='s', color='black') #plot each instance\n",
    "ax.plot(centroids_df2[\"fixed.acidity\"], fit, 'r--') #plot the regresion calc, with a red dotted line\n",
    "\n",
    "plt.title(\"Density vs. Fixed Acidity\")\n",
    "plt.xlabel(\"Fixed Acidity\")\n",
    "plt.ylabel(\"Density\")\n",
    "plt.grid(True)\n",
    "plt.savefig(\"densityacidityregress.png\")"
   ]
  },
  {
   "cell_type": "code",
   "execution_count": null,
   "metadata": {},
   "outputs": [],
   "source": [
    "print(\"r:\", r, \n",
    "      \"error:\", error)"
   ]
  }
 ],
 "metadata": {
  "kernelspec": {
   "display_name": "Python 3",
   "language": "python",
   "name": "python3"
  },
  "language_info": {
   "codemirror_mode": {
    "name": "ipython",
    "version": 3
   },
   "file_extension": ".py",
   "mimetype": "text/x-python",
   "name": "python",
   "nbconvert_exporter": "python",
   "pygments_lexer": "ipython3",
   "version": "3.6.7"
  }
 },
 "nbformat": 4,
 "nbformat_minor": 2
}
